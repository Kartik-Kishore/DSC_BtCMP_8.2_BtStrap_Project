{
 "cells": [
  {
   "cell_type": "markdown",
   "metadata": {},
   "source": [
    "# Inferential statistics II - Bootstrapping"
   ]
  },
  {
   "cell_type": "markdown",
   "metadata": {},
   "source": [
    "## Introduction"
   ]
  },
  {
   "cell_type": "markdown",
   "metadata": {},
   "source": [
    "In the previous frequentist mini-projects, you did frequentist calculations to perform inference from a sample of data. Such inference relies on theory largely developed from the 19th-Century onwards that is subject to certain assumptions or theoretical limits. These are fine if those assumptions hold for the particular case you're working on, and what you want to do has a known theoretical distribution (for example the mean of a sampling distribution that we looked at in the previous mini-project.)"
   ]
  },
  {
   "cell_type": "markdown",
   "metadata": {},
   "source": [
    "In this mini-project, you'll use the same medical charge data you used in the frequentist inference mini-project, but this time you'll make inferences about the population using bootstrapping (ie. simulating repeated re-runs of an experiment.) If frequentism is about using assumptions and theoretical results to calculate what we expect to happen were an experiment to be run again and again and again, then bootstrapping is about using computing power to essentially re-run the sample draw again and again and again to see what actually happens."
   ]
  },
  {
   "cell_type": "markdown",
   "metadata": {},
   "source": [
    "## Prerequisites"
   ]
  },
  {
   "cell_type": "markdown",
   "metadata": {},
   "source": [
    "While these exercises do not strictly depend on these concepts, we encourage you to complete the previous mini-projects before starting this one so that you can approach this assignment with a good understanding of frequentist concepts like:\n",
    "* the _z_-statistic\n",
    "* the _t_-statistic\n",
    "* the difference and relationship between the two\n",
    "* the Central Limit Theorem, its assumptions and consequences\n",
    "* how to estimate the population mean and standard deviation from a sample\n",
    "* the concept of a sampling distribution of a test statistic, particularly for the mean\n",
    "* how to combine these concepts to calculate confidence intervals and p-values\n",
    "* how those confidence intervals and p-values allow you to perform hypothesis (or A/B) tests"
   ]
  },
  {
   "cell_type": "markdown",
   "metadata": {},
   "source": [
    "To complete mini-project, it's important that you first complete the bootstrap resources listed in this subunit, as they contain valuable information about how to calculate bootstrap replicates of summary statistics. Having an basic understanding of what confidence intervals and p-values are will also be helpful (we touch on them in this mini-project, but please speak to your mentor or conduct individual research if you'd like to learn more.) "
   ]
  },
  {
   "cell_type": "code",
   "execution_count": 1,
   "metadata": {},
   "outputs": [],
   "source": [
    "import pandas as pd\n",
    "import numpy as np\n",
    "from numpy.random import seed\n",
    "import matplotlib.pyplot as plt"
   ]
  },
  {
   "cell_type": "markdown",
   "metadata": {},
   "source": [
    "## Medical charge data set"
   ]
  },
  {
   "cell_type": "code",
   "execution_count": 2,
   "metadata": {},
   "outputs": [],
   "source": [
    "med_charges = pd.read_csv('data/insurance2.csv')"
   ]
  },
  {
   "cell_type": "code",
   "execution_count": 3,
   "metadata": {},
   "outputs": [
    {
     "data": {
      "text/html": [
       "<div>\n",
       "<style scoped>\n",
       "    .dataframe tbody tr th:only-of-type {\n",
       "        vertical-align: middle;\n",
       "    }\n",
       "\n",
       "    .dataframe tbody tr th {\n",
       "        vertical-align: top;\n",
       "    }\n",
       "\n",
       "    .dataframe thead th {\n",
       "        text-align: right;\n",
       "    }\n",
       "</style>\n",
       "<table border=\"1\" class=\"dataframe\">\n",
       "  <thead>\n",
       "    <tr style=\"text-align: right;\">\n",
       "      <th></th>\n",
       "      <th>age</th>\n",
       "      <th>sex</th>\n",
       "      <th>bmi</th>\n",
       "      <th>children</th>\n",
       "      <th>smoker</th>\n",
       "      <th>region</th>\n",
       "      <th>charges</th>\n",
       "      <th>insuranceclaim</th>\n",
       "    </tr>\n",
       "  </thead>\n",
       "  <tbody>\n",
       "    <tr>\n",
       "      <th>0</th>\n",
       "      <td>19</td>\n",
       "      <td>0</td>\n",
       "      <td>27.900</td>\n",
       "      <td>0</td>\n",
       "      <td>1</td>\n",
       "      <td>3</td>\n",
       "      <td>16884.92400</td>\n",
       "      <td>1</td>\n",
       "    </tr>\n",
       "    <tr>\n",
       "      <th>1</th>\n",
       "      <td>18</td>\n",
       "      <td>1</td>\n",
       "      <td>33.770</td>\n",
       "      <td>1</td>\n",
       "      <td>0</td>\n",
       "      <td>2</td>\n",
       "      <td>1725.55230</td>\n",
       "      <td>1</td>\n",
       "    </tr>\n",
       "    <tr>\n",
       "      <th>2</th>\n",
       "      <td>28</td>\n",
       "      <td>1</td>\n",
       "      <td>33.000</td>\n",
       "      <td>3</td>\n",
       "      <td>0</td>\n",
       "      <td>2</td>\n",
       "      <td>4449.46200</td>\n",
       "      <td>0</td>\n",
       "    </tr>\n",
       "    <tr>\n",
       "      <th>3</th>\n",
       "      <td>33</td>\n",
       "      <td>1</td>\n",
       "      <td>22.705</td>\n",
       "      <td>0</td>\n",
       "      <td>0</td>\n",
       "      <td>1</td>\n",
       "      <td>21984.47061</td>\n",
       "      <td>0</td>\n",
       "    </tr>\n",
       "    <tr>\n",
       "      <th>4</th>\n",
       "      <td>32</td>\n",
       "      <td>1</td>\n",
       "      <td>28.880</td>\n",
       "      <td>0</td>\n",
       "      <td>0</td>\n",
       "      <td>1</td>\n",
       "      <td>3866.85520</td>\n",
       "      <td>1</td>\n",
       "    </tr>\n",
       "  </tbody>\n",
       "</table>\n",
       "</div>"
      ],
      "text/plain": [
       "   age  sex     bmi  children  smoker  region      charges  insuranceclaim\n",
       "0   19    0  27.900         0       1       3  16884.92400               1\n",
       "1   18    1  33.770         1       0       2   1725.55230               1\n",
       "2   28    1  33.000         3       0       2   4449.46200               0\n",
       "3   33    1  22.705         0       0       1  21984.47061               0\n",
       "4   32    1  28.880         0       0       1   3866.85520               1"
      ]
     },
     "execution_count": 3,
     "metadata": {},
     "output_type": "execute_result"
    }
   ],
   "source": [
    "med_charges.head()"
   ]
  },
  {
   "cell_type": "markdown",
   "metadata": {},
   "source": [
    "In the previous assignment, you used the frequentist approach to estimate the lower limit for the 95% confidence interval on the mean hospital charge. This approach relies on statistical theory that has been developed over the years and is also limited to statistics for which theoretical results on the sampling distribution exist. These results are remarkably useful and applicable much of the time and under a surprisingly wide range of conditions."
   ]
  },
  {
   "cell_type": "markdown",
   "metadata": {},
   "source": [
    "Having calculated the 95% lower confidence interval using frequentist theory in the previous exercise, you'll now use bootstrap inference to verify your calculations and check that you get consistent results without making the assumptions required before. After all, the distribution of charges really was very non-normal."
   ]
  },
  {
   "cell_type": "markdown",
   "metadata": {},
   "source": [
    "__Q:__ Use bootstrap sampling to estimate the same 95% confidence interval lower limit as before."
   ]
  },
  {
   "cell_type": "markdown",
   "metadata": {},
   "source": [
    "__A:__ The result is $12,724.47.\n",
    "\n",
    "This means that if a collection of medical charges has a mean less than this number, we can be 95% sure that the collection was not sampled from our population, because 95% of our random samples produce a mean greater than this number."
   ]
  },
  {
   "cell_type": "code",
   "execution_count": 4,
   "metadata": {},
   "outputs": [
    {
     "name": "stdout",
     "output_type": "stream",
     "text": [
      "With 95% confidence the lowest mean we could expect from this population is: $12724.47\n"
     ]
    }
   ],
   "source": [
    "np.random.seed(47)\n",
    "N_rep = 10000\n",
    "\n",
    "### Creating BootStrap Function:\n",
    "\n",
    "def bootstrap_function (data,func,size=1):\n",
    "    \"\"\" SUMMARY\n",
    "    \n",
    "        Takes in data assuming data is an array or has an array method, makes a bootstrap replica of that data and computes the summary statistic func assuming func can be applied to array.\n",
    "        It repeats this size many times, each time saving the result to an array and outputting the array \n",
    "        \n",
    "        INPUTS\n",
    "        \n",
    "        data: Data to replicate needs to be array or has array method\n",
    "        func: Summary stat to compute, needs to be able to take in an array\n",
    "        size: number of replicates to compute\n",
    "        \n",
    "        OUTPUTS\n",
    "        \n",
    "        bootstrap_replicates: array of bootstrap replicates of summary statistic\"\"\"\n",
    "    \n",
    "    \n",
    "    bootstrap_replicates=np.empty(size) # To-be-array of summary statistics calculated for replicates\n",
    "    \n",
    "    if type(data)!= type(np.empty(0)): # Converts data to array if not an array\n",
    "        \n",
    "        tempdata=data.array\n",
    "        \n",
    "    else:\n",
    "        tempdata=data\n",
    "        \n",
    "        \n",
    "    for i in range(size):\n",
    "        \n",
    "        bootstrap_replicates[i]=func(np.random.choice(tempdata,len(tempdata)))# returns summary statistic of an array with same length as data\n",
    "                                                                              # created by sampling data with replacement\n",
    "        \n",
    "    return bootstrap_replicates\n",
    "\n",
    "\n",
    "\n",
    "### Conducting Left Tailed Test:\n",
    "\n",
    "np.random.seed(47)\n",
    "\n",
    "mean_of_charges_bootstrap_sample=bootstrap_function(med_charges.charges,np.mean,N_rep) # bootstrapping med_charges\n",
    "\n",
    "LL=np.percentile(mean_of_charges_bootstrap_sample,[5])[0] # Calculating lower limit for left tailed test on 95 confidence interval \n",
    "                                                       #(5 percentile)\n",
    "\n",
    "print('With 95% confidence the lowest mean we could expect from this population is: $',round(LL,2),sep='')\n"
   ]
  },
  {
   "cell_type": "markdown",
   "metadata": {},
   "source": [
    "If you performed 10000 replicates immediately after setting the random seed to 47, you should get the value 12724 here, which compares very well with the value 12725 obtained using the _t_-distribution confidence interval previously. It is a most pleasant result to see the predictions of classical frequentist theory match with results that are now possible through the number-crunching ability of computers."
   ]
  },
  {
   "cell_type": "markdown",
   "metadata": {},
   "source": [
    "Remember, in the previous mini-projects, we saw that there are two ways of performing a _t_-test from a sample, depending on whether we can assume the groups have equal variance or not. We can actually easily test this using the bootstrap approach!"
   ]
  },
  {
   "cell_type": "markdown",
   "metadata": {},
   "source": [
    "__Q:__ Calculate the 95% confidence interval for the difference between the standard deviations of insurance and non-insurance claim charges (insured - non-insured). Calculate the differences over 10000 replicates. Plot the histogram of values and mark the locations of the percentiles. State the null and alternative hypothesis and comment on whether you would retain or reject the null hypothesis in this case and why."
   ]
  },
  {
   "cell_type": "markdown",
   "metadata": {},
   "source": [
    "__A:__ The null hypothesis in this case is that there is no difference between the group with insurance and without insurance, the alternative hypothesis being that there is. The 95% confidence interval of the difference in the standard deviations of the resampled groups is \\\\$6\\,670\\.02 to \\\\$8\\,504\\.75. Since this does not include a difference of zero we can conclude that the standard deviations of the populations are different."
   ]
  },
  {
   "cell_type": "code",
   "execution_count": 5,
   "metadata": {},
   "outputs": [
    {
     "name": "stdout",
     "output_type": "stream",
     "text": [
      "The actual difference in the standard deviation is: $7596.26\n"
     ]
    }
   ],
   "source": [
    "### Filtering by insurance: \n",
    "  # Creating 2 arrays from med_charges, by filtering on insuranceclaim boolean\n",
    "\n",
    "insurance_bool=med_charges.insuranceclaim==1\n",
    "\n",
    "# Defining insurance having and non-insurance having groups\n",
    "has_insurance=np.array(med_charges.charges.loc[insurance_bool])\n",
    "has_no_insurance=np.array(med_charges.charges.loc[~insurance_bool])\n",
    "\n",
    "\n",
    "actual_diff_in_std=np.std(has_insurance)-np.std(has_no_insurance)\n",
    "\n",
    "print('The actual difference in the standard deviation is: $',round(actual_diff_in_std,2),sep='')\n",
    "\n"
   ]
  },
  {
   "cell_type": "code",
   "execution_count": 6,
   "metadata": {},
   "outputs": [],
   "source": [
    "### Bootstrapping std difference:\n",
    "\n",
    "  # to make the difference of mean replicate, first a bootstrap replicate of each group was created using the std\n",
    "  # as a summary statistic, and then the difference between the resulting replicates were taken\n",
    " \n",
    "has_insurance_std_replicates=bootstrap_function(has_insurance,np.std,N_rep)\n",
    "\n",
    "has_no_insurance_std_replicates=bootstrap_function(has_no_insurance,np.std,N_rep)\n",
    "\n",
    "difference_in_std_bs_replicates=has_insurance_std_replicates-has_no_insurance_std_replicates\n"
   ]
  },
  {
   "cell_type": "code",
   "execution_count": 7,
   "metadata": {},
   "outputs": [
    {
     "name": "stdout",
     "output_type": "stream",
     "text": [
      "the 95% confidence interval is $6670.02 to $8504.75\n"
     ]
    },
    {
     "data": {
      "image/png": "[encoded data removed]",
      "text/plain": [
       "<Figure size 432x288 with 1 Axes>"
      ]
     },
     "metadata": {
      "needs_background": "light"
     },
     "output_type": "display_data"
    }
   ],
   "source": [
    "### Plotting:\n",
    "\n",
    "CL_95=np.percentile(difference_in_std_bs_replicates,[2.5,97.5]) # Calculating 95 confidence interval\n",
    "\n",
    "\n",
    "_=plt.hist(difference_in_std_bs_replicates,bins=100,density=True)\n",
    "_=plt.title('Difference of standard deviation between groups\\n with insurance and without\\n')\n",
    "\n",
    "_=plt.xlabel('Value (in $)')\n",
    "_=plt.ylabel('pdf(likelihood)')\n",
    "\n",
    "# vertical lines\n",
    "_=plt.axvline(CL_95[0],linestyle='dashed')# 2.5 percentile\n",
    "_=plt.axvline(CL_95[1],linestyle='dashed')# 97.5 percentile\n",
    "\n",
    "\n",
    "print('the 95% confidence interval is $',round(CL_95[0],2),' to $',round(CL_95[1],2),sep='') \n"
   ]
  },
  {
   "cell_type": "markdown",
   "metadata": {},
   "source": [
    "## Confidence interval and p-value"
   ]
  },
  {
   "cell_type": "markdown",
   "metadata": {},
   "source": [
    "The confidence interval above is often a useful quantity to estimate. If we wish to limit our expected probability of making a Type I error (where we wrongly reject the null hypothesis, and it is, instead, true) to $\\alpha$, the associated confidence interval is our estimate of the interval within which we expect the true population value to be found $100\\times(1 - \\alpha)$% of the time we do this test. In the above we performed bootstrap replicates to estimate the interval and reject the null hypothesis if this interval did not contain zero. You will sometimes see such an interval reported in the output of statistical functions.\n",
    "\n",
    "The partner of the confidence interval is the p-value. The p-value and the confidence interval are linked through our choice of $\\alpha$. The p-value tells us how likely it is, under the null hypothesis, to get an outcome at least as extreme as what was observed. If this fails to reach the level of our _pre-specified_ $\\alpha$, we decide the null hypothesis is sufficiently unlikely to be true and thus reject it. To calculate this p-value via the bootstrap, we have to put ourselves in a position where we are simulating the null hypothesis being true and then calculate the fraction of times we observe a result at least as extreme as that actually observed.\n",
    "\n",
    "Remember how, previously, you used the _t_-test to calculate the p-value for the observed difference between the means of insured and non-insured medical cases. We're now going to repeat this, this time using the bootstrap approach.\n",
    "\n",
    "__Q:__ Perform a bootstrapped hypothesis test at the 5% significance level ($\\alpha = 0.05$) to calculate the p-value of the observed difference between insurance and non-insurance charges, state your null and alternative hypotheses and whether you retain or reject the null hypothesis for the given significance level."
   ]
  },
  {
   "cell_type": "markdown",
   "metadata": {},
   "source": [
    "__A:__ Null hypothesis is that there is no difference of between the insurance group and non-insurance group, and that that the observed difference in mean arise from sampling this population with a reasonable probability. The alternative hypothesis is that there is in fact a difference. I would reject the null hypothesis "
   ]
  },
  {
   "cell_type": "code",
   "execution_count": 8,
   "metadata": {},
   "outputs": [],
   "source": [
    "### Creating function take difference in means of insurance group and no insurance group\n",
    "  # assuming there is no difference between groups:\n",
    "\n",
    "  # To assume there is no difference between the insurance and non-insurance groups we randomly shuffle \n",
    "  # The two groups together and call the first len(has_insurance)-1 the has_insurance group and remaining\n",
    "  # has_no_insurance group. This shuffling and splitting is done in a function so that it can be passed to \n",
    "  # bootstrap_function\n",
    "\n",
    "charges_concat=np.concatenate((has_insurance,has_no_insurance))\n",
    "\n",
    "def diff_means_of_concat_arrays(concat_data,split=len(has_insurance)):\n",
    "    \"\"\" SUMMARY\n",
    "    \n",
    "        Splits an array into two groups and take the difference of means between them. For purposes of this\n",
    "        excercise split is set to len(has_insurance) to split the array accordingly.\n",
    "        \n",
    "        INPUTS\n",
    "        \n",
    "        concat_data: an array, presumably the concatenated data \n",
    "        split: determines how array will be split into arrays, initialized to len(has_insurance) for task\n",
    "        \n",
    "        OUTPUTS\n",
    "        \n",
    "        (no variable name): mean of differences as float or int\n",
    "       \n",
    "       \"\"\"\n",
    "    \n",
    "    perm_concat=np.random.permutation(concat_data) #randomly shuffling data\n",
    "    \n",
    "    perm_first= perm_concat[:split] #splitting groups: has_insurance\n",
    "    \n",
    "    perm_second=perm_concat[split:]# has_no_insurance\n",
    "    \n",
    "    return np.mean(perm_first)-np.mean(perm_second)"
   ]
  },
  {
   "cell_type": "code",
   "execution_count": 9,
   "metadata": {},
   "outputs": [],
   "source": [
    "### Calculating Bootstrap replicates assuming no difference:\n",
    "      \n",
    "diff_mean_replicates=bootstrap_function(charges_concat,diff_means_of_concat_arrays,N_rep)\n",
    "    "
   ]
  },
  {
   "cell_type": "code",
   "execution_count": 10,
   "metadata": {},
   "outputs": [
    {
     "name": "stdout",
     "output_type": "stream",
     "text": [
      "The P value is: 0.0\n"
     ]
    }
   ],
   "source": [
    "### Calculating P Value\n",
    "\n",
    "actual_diff_mean= np.mean(has_insurance)-np.mean(has_no_insurance)\n",
    "\n",
    "p_value= np.sum(np.absolute(diff_mean_replicates)>=actual_diff_mean)/len(diff_mean_replicates)\n",
    "\n",
    "print(\"The P value is:\", p_value)"
   ]
  },
  {
   "cell_type": "markdown",
   "metadata": {},
   "source": [
    "__Q:__ To put the above result in perspective, plot the histogram of your bootstrapped differences along with lines marking the locations of the observed difference. (Why would we plot more than one line, given that we only have one observed difference?)"
   ]
  },
  {
   "cell_type": "markdown",
   "metadata": {},
   "source": [
    "__A:__ Because we are calculating an absolute difference, the value of the acutal difference can arise in two ways: if the mean of has_insurance is that value greater than mean of has_no_insurance or if the mean of has_no_insurace is greater than mean has_insurance by that value (namely it is the negative version of the actual)."
   ]
  },
  {
   "cell_type": "code",
   "execution_count": 11,
   "metadata": {},
   "outputs": [
    {
     "data": {
      "image/png": "[encoded data removed]",
      "text/plain": [
       "<Figure size 432x288 with 1 Axes>"
      ]
     },
     "metadata": {
      "needs_background": "light"
     },
     "output_type": "display_data"
    }
   ],
   "source": [
    "# Plotting and taking actual difference in means\n",
    "\n",
    "actual_diff_mean=np.mean(has_insurance)-np.mean(has_no_insurance)\n",
    "\n",
    "_=plt.hist(diff_mean_replicates,bins=100,density=True)\n",
    "_=plt.title('Difference in mean in dollars assuming no actual difference between groups')\n",
    "\n",
    "_=plt.xlabel('Value (in $)')\n",
    "_=plt.ylabel('pdf(likelihood)')\n",
    "\n",
    "_=plt.axvline(actual_diff_mean,linestyle='dashed')\n",
    "_=plt.axvline(-actual_diff_mean,linestyle='dashed')"
   ]
  },
  {
   "cell_type": "markdown",
   "metadata": {},
   "source": [
    "__Q:__ Compare your p-value above with that obtained using the _t_-test function in the previous assignment. Do you think you would want to try to perform enough bootstrap replicates to observe a random difference as large as that we did observe?"
   ]
  },
  {
   "cell_type": "markdown",
   "metadata": {},
   "source": [
    "__A:__ The p-value observed in the last excersise what on the order of positive E-31. I do not think I run enough bootstrap replicates to get that accurate of a value and do it in a sensible amount of time."
   ]
  },
  {
   "cell_type": "markdown",
   "metadata": {},
   "source": [
    "__Q:__ Consider the two variants of the _t_-test we performed in the previous assignment. Which one would you use now?"
   ]
  },
  {
   "cell_type": "markdown",
   "metadata": {},
   "source": [
    "__A:__ I would use the non-pooled standard deviation variant as the standard deviations of the group are almost guarenteed to be different (based on 2nd bootstrap question in this excersise)"
   ]
  },
  {
   "cell_type": "markdown",
   "metadata": {},
   "source": [
    "__Q:__ If, instead of being asked whether the means of two groups were different, you were working with an ad-recommender team who wanted to release a new recommendation algorithm, and you were looking at click-through rate both for the current algorithm (call it A) and from trials of their new algorithm (call it B), would you perform a two-sided test as above? What would be your null and alternative hypotheses and what would be the real-world consequence of rejecting the null hypothesis?"
   ]
  },
  {
   "cell_type": "markdown",
   "metadata": {},
   "source": [
    "__A:__ I would probably do a one sided right tailed test with a null hypothesis of there being no significant increase in the click through rate using version B versus A. The alternative hypothesis would therefore be that there was a significant increase in click through rate using B rather than A. If we reject the null hypothesis with enough confidence, the result would be that the company will use B rather than A, and we would be hoping that we got it right."
   ]
  },
  {
   "cell_type": "markdown",
   "metadata": {},
   "source": [
    "# Learning outcomes\n",
    "\n",
    "You've previously applied frequentist methods to calculate confidence intervals, p-values, and perform hypothesis tests. Frequentist methods use theoretical results to calculate what we expect would happen if experiments were to be run again and again and again. Now you've seen how you can do the same things using the bootstrap approach, which does not rely on such theory, and attendant assumptions, but instead literally does run experiments again and again and again.\n",
    "\n",
    "In these exercises, you have:\n",
    "* calculated the same confidence interval lower limit as you did previously\n",
    "* tested the assumption that the variances of the two groups (insured vs. non-insured) were equal - something a bit harder to do using the frequentist method because of the nature of the sampling distribution for variance\n",
    "* calculated the p-value for the difference between the means of the two groups and compared with the result obtained using the previous frequentist approach\n",
    "\n",
    "You are now well equipped to apply the bootstrap approach to a wide variety of problems. Just think about what conditions you wish to recreate in your simulated reruns."
   ]
  }
 ],
 "metadata": {
  "kernelspec": {
   "display_name": "Python 3",
   "language": "python",
   "name": "python3"
  },
  "language_info": {
   "codemirror_mode": {
    "name": "ipython",
    "version": 3
   },
   "file_extension": ".py",
   "mimetype": "text/x-python",
   "name": "python",
   "nbconvert_exporter": "python",
   "pygments_lexer": "ipython3",
   "version": "3.7.3"
  }
 },
 "nbformat": 4,
 "nbformat_minor": 2
}
